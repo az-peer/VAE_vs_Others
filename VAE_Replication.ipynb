{
  "nbformat": 4,
  "nbformat_minor": 0,
  "metadata": {
    "colab": {
      "provenance": [],
      "gpuType": "T4"
    },
    "kernelspec": {
      "name": "python3",
      "display_name": "Python 3"
    },
    "language_info": {
      "name": "python"
    },
    "accelerator": "GPU"
  },
  "cells": [
    {
      "cell_type": "markdown",
      "source": [
        "## Libraries"
      ],
      "metadata": {
        "id": "_lO3Fn1Ae5Jg"
      }
    },
    {
      "cell_type": "code",
      "source": [
        "from torch import nn\n",
        "import torch.nn.functional as F\n",
        "import torch\n",
        "from torch.utils.data import DataLoader, Subset\n",
        "from torchvision import transforms, datasets\n",
        "from torchvision.utils import save_image\n",
        "from tqdm import tqdm\n",
        "import numpy as np"
      ],
      "metadata": {
        "id": "eM9Bwl2ge3ls"
      },
      "execution_count": 1,
      "outputs": []
    },
    {
      "cell_type": "markdown",
      "source": [
        "## VAE Architecture"
      ],
      "metadata": {
        "id": "yeunCJ2GekTl"
      }
    },
    {
      "cell_type": "code",
      "execution_count": 2,
      "metadata": {
        "id": "889ALjwHeVdZ"
      },
      "outputs": [],
      "source": [
        "class VariationalAutoEncoder(nn.Module):\n",
        "    def __init__(self, input_dim, hidden_dim=200, z_dim=20):\n",
        "        super().__init__()\n",
        "        # encoding\n",
        "        self.img2hidden = nn.Linear(input_dim, hidden_dim)\n",
        "        self.hidden2hidden = nn.Linear(hidden_dim, hidden_dim)\n",
        "        self.hidden2mu = nn.Linear(hidden_dim, z_dim)\n",
        "        self.hidden2sigma = nn.Linear(hidden_dim, z_dim)\n",
        "\n",
        "        # decoder\n",
        "        self.z2hidden = nn.Linear(z_dim, hidden_dim)\n",
        "        self.hidden2image = nn.Linear(hidden_dim, input_dim)\n",
        "\n",
        "        # define ReLU\n",
        "        self.relu = nn.ReLU()\n",
        "\n",
        "    def encoder(self, x):\n",
        "        h = self.relu(self.img2hidden(x))\n",
        "        h = self.relu(self.hidden2hidden(h))\n",
        "        mu = self.hidden2mu(h)\n",
        "        logvar = self.hidden2sigma(h)\n",
        "        return mu, logvar\n",
        "\n",
        "    def decoder(self, z):\n",
        "        h = self.relu(self.z2hidden(z))\n",
        "        h = self.relu(self.hidden2hidden(h))\n",
        "        img = self.hidden2image(h)\n",
        "        img = torch.sigmoid(img)\n",
        "        return img\n",
        "\n",
        "\n",
        "    def forward(self, x):\n",
        "        mu, logvar = self.encoder(x)\n",
        "        sigma = torch.exp(0.5 * logvar)\n",
        "        epsilon = torch.randn_like(sigma)\n",
        "        z_reparameterized = mu + sigma * epsilon\n",
        "\n",
        "        x_reconstructed = self.decoder(z_reparameterized)\n",
        "\n",
        "        return x_reconstructed, mu, logvar\n",
        "\n",
        "\n"
      ]
    },
    {
      "cell_type": "markdown",
      "source": [
        "## Train"
      ],
      "metadata": {
        "id": "O3p_MbR7enwA"
      }
    },
    {
      "cell_type": "code",
      "source": [
        "device = torch.device(\"cpu\")\n",
        "input_dim = 784\n",
        "hidden_dim = 200\n",
        "z_dim = 20\n",
        "num_epochs = 60\n",
        "batch_size = 128\n",
        "karpathy_constant = 3e-4\n",
        "\n",
        "\n",
        "\n",
        "dataset = datasets.FashionMNIST(root='./data', train=True, download=True, transform=transforms.ToTensor())\n",
        "random_indices = np.random.choice(len(dataset), size=5000, replace=False)\n",
        "subset_train_dataset = Subset(dataset, random_indices)\n",
        "\n",
        "train_loader = DataLoader(\n",
        "    dataset=subset_train_dataset,batch_size=batch_size,shuffle = True\n",
        "    )\n",
        "\n",
        "model = VariationalAutoEncoder(input_dim=input_dim,\n",
        "                               hidden_dim=hidden_dim,\n",
        "                               z_dim=z_dim)\n",
        "\n",
        "model = model.to(device)\n",
        "\n",
        "optimizer = torch.optim.Adam(model.parameters(), lr = karpathy_constant)\n",
        "loss_fn = nn.BCELoss(reduction='sum')\n",
        "\n",
        "\n",
        "for epoch in range(num_epochs):\n",
        "    loop = tqdm(enumerate(train_loader), total=len(train_loader))\n",
        "\n",
        "    epoch_loss = 0\n",
        "\n",
        "    # not using labels for now\n",
        "    for i, (x, _) in loop:\n",
        "        x = x.to(device).view(x.shape[0], input_dim)\n",
        "\n",
        "        x_reconstructed, mu, logvar = model(x)\n",
        "\n",
        "        recontruction_loss = loss_fn(x_reconstructed, x)\n",
        "\n",
        "        # kl divergence\n",
        "        # minimizing the same as negative\n",
        "        # pushes towards gaussian\n",
        "        kl_div = -0.5 * torch.sum(1 + logvar - mu.pow(2) - logvar.exp())\n",
        "\n",
        "        loss = recontruction_loss + kl_div\n",
        "        optimizer.zero_grad()\n",
        "        loss.backward()\n",
        "        optimizer.step()\n",
        "\n",
        "        epoch_loss += loss.item()\n",
        "\n",
        "        loop.set_postfix(loss=loss.item())\n",
        "\n",
        "    avg_epoch_loss = epoch_loss / len(train_loader.dataset)\n",
        "    print(f\"Epoch [{epoch+1}/{num_epochs}], Average Loss: {avg_epoch_loss:.2f}\")\n",
        "\n",
        "\n",
        "# save the model\n",
        "torch.save(model.state_dict(), \"vae_model.pth\")"
      ],
      "metadata": {
        "colab": {
          "base_uri": "https://localhost:8080/"
        },
        "id": "jocujXiaeh8w",
        "outputId": "68aa3be9-0b64-4fb3-8a43-58cd9cdc4a32"
      },
      "execution_count": 3,
      "outputs": [
        {
          "output_type": "stream",
          "name": "stderr",
          "text": [
            "100%|██████████| 26.4M/26.4M [00:02<00:00, 12.7MB/s]\n",
            "100%|██████████| 29.5k/29.5k [00:00<00:00, 201kB/s]\n",
            "100%|██████████| 4.42M/4.42M [00:01<00:00, 3.78MB/s]\n",
            "100%|██████████| 5.15k/5.15k [00:00<00:00, 22.1MB/s]\n",
            "100%|██████████| 40/40 [00:01<00:00, 36.42it/s, loss=3.28e+3]\n"
          ]
        },
        {
          "output_type": "stream",
          "name": "stdout",
          "text": [
            "Epoch [1/60], Average Loss: 487.13\n"
          ]
        },
        {
          "output_type": "stream",
          "name": "stderr",
          "text": [
            "100%|██████████| 40/40 [00:00<00:00, 41.55it/s, loss=3.16e+3]\n"
          ]
        },
        {
          "output_type": "stream",
          "name": "stdout",
          "text": [
            "Epoch [2/60], Average Loss: 388.23\n"
          ]
        },
        {
          "output_type": "stream",
          "name": "stderr",
          "text": [
            "100%|██████████| 40/40 [00:00<00:00, 42.17it/s, loss=2.47e+3]\n"
          ]
        },
        {
          "output_type": "stream",
          "name": "stdout",
          "text": [
            "Epoch [3/60], Average Loss: 368.31\n"
          ]
        },
        {
          "output_type": "stream",
          "name": "stderr",
          "text": [
            "100%|██████████| 40/40 [00:00<00:00, 43.00it/s, loss=2.34e+3]\n"
          ]
        },
        {
          "output_type": "stream",
          "name": "stdout",
          "text": [
            "Epoch [4/60], Average Loss: 330.32\n"
          ]
        },
        {
          "output_type": "stream",
          "name": "stderr",
          "text": [
            "100%|██████████| 40/40 [00:01<00:00, 37.06it/s, loss=2.61e+3]\n"
          ]
        },
        {
          "output_type": "stream",
          "name": "stdout",
          "text": [
            "Epoch [5/60], Average Loss: 312.89\n"
          ]
        },
        {
          "output_type": "stream",
          "name": "stderr",
          "text": [
            "100%|██████████| 40/40 [00:01<00:00, 31.93it/s, loss=2.5e+3]\n"
          ]
        },
        {
          "output_type": "stream",
          "name": "stdout",
          "text": [
            "Epoch [6/60], Average Loss: 306.51\n"
          ]
        },
        {
          "output_type": "stream",
          "name": "stderr",
          "text": [
            "100%|██████████| 40/40 [00:01<00:00, 34.95it/s, loss=2.27e+3]\n"
          ]
        },
        {
          "output_type": "stream",
          "name": "stdout",
          "text": [
            "Epoch [7/60], Average Loss: 302.39\n"
          ]
        },
        {
          "output_type": "stream",
          "name": "stderr",
          "text": [
            "100%|██████████| 40/40 [00:01<00:00, 28.81it/s, loss=1.9e+3]\n"
          ]
        },
        {
          "output_type": "stream",
          "name": "stdout",
          "text": [
            "Epoch [8/60], Average Loss: 298.90\n"
          ]
        },
        {
          "output_type": "stream",
          "name": "stderr",
          "text": [
            "100%|██████████| 40/40 [00:01<00:00, 34.72it/s, loss=2.4e+3]\n"
          ]
        },
        {
          "output_type": "stream",
          "name": "stdout",
          "text": [
            "Epoch [9/60], Average Loss: 295.95\n"
          ]
        },
        {
          "output_type": "stream",
          "name": "stderr",
          "text": [
            "100%|██████████| 40/40 [00:00<00:00, 42.45it/s, loss=2.13e+3]\n"
          ]
        },
        {
          "output_type": "stream",
          "name": "stdout",
          "text": [
            "Epoch [10/60], Average Loss: 293.14\n"
          ]
        },
        {
          "output_type": "stream",
          "name": "stderr",
          "text": [
            "100%|██████████| 40/40 [00:00<00:00, 42.28it/s, loss=1.98e+3]\n"
          ]
        },
        {
          "output_type": "stream",
          "name": "stdout",
          "text": [
            "Epoch [11/60], Average Loss: 290.56\n"
          ]
        },
        {
          "output_type": "stream",
          "name": "stderr",
          "text": [
            "100%|██████████| 40/40 [00:00<00:00, 42.96it/s, loss=2.34e+3]\n"
          ]
        },
        {
          "output_type": "stream",
          "name": "stdout",
          "text": [
            "Epoch [12/60], Average Loss: 287.62\n"
          ]
        },
        {
          "output_type": "stream",
          "name": "stderr",
          "text": [
            "100%|██████████| 40/40 [00:00<00:00, 40.70it/s, loss=2.35e+3]\n"
          ]
        },
        {
          "output_type": "stream",
          "name": "stdout",
          "text": [
            "Epoch [13/60], Average Loss: 284.86\n"
          ]
        },
        {
          "output_type": "stream",
          "name": "stderr",
          "text": [
            "100%|██████████| 40/40 [00:00<00:00, 40.85it/s, loss=2.51e+3]\n"
          ]
        },
        {
          "output_type": "stream",
          "name": "stdout",
          "text": [
            "Epoch [14/60], Average Loss: 282.29\n"
          ]
        },
        {
          "output_type": "stream",
          "name": "stderr",
          "text": [
            "100%|██████████| 40/40 [00:00<00:00, 40.56it/s, loss=2.47e+3]\n"
          ]
        },
        {
          "output_type": "stream",
          "name": "stdout",
          "text": [
            "Epoch [15/60], Average Loss: 280.36\n"
          ]
        },
        {
          "output_type": "stream",
          "name": "stderr",
          "text": [
            "100%|██████████| 40/40 [00:01<00:00, 38.75it/s, loss=2.19e+3]\n"
          ]
        },
        {
          "output_type": "stream",
          "name": "stdout",
          "text": [
            "Epoch [16/60], Average Loss: 278.87\n"
          ]
        },
        {
          "output_type": "stream",
          "name": "stderr",
          "text": [
            "100%|██████████| 40/40 [00:01<00:00, 30.26it/s, loss=2.06e+3]\n"
          ]
        },
        {
          "output_type": "stream",
          "name": "stdout",
          "text": [
            "Epoch [17/60], Average Loss: 277.20\n"
          ]
        },
        {
          "output_type": "stream",
          "name": "stderr",
          "text": [
            "100%|██████████| 40/40 [00:01<00:00, 29.63it/s, loss=2.05e+3]\n"
          ]
        },
        {
          "output_type": "stream",
          "name": "stdout",
          "text": [
            "Epoch [18/60], Average Loss: 275.85\n"
          ]
        },
        {
          "output_type": "stream",
          "name": "stderr",
          "text": [
            "100%|██████████| 40/40 [00:00<00:00, 40.09it/s, loss=2.59e+3]\n"
          ]
        },
        {
          "output_type": "stream",
          "name": "stdout",
          "text": [
            "Epoch [19/60], Average Loss: 274.44\n"
          ]
        },
        {
          "output_type": "stream",
          "name": "stderr",
          "text": [
            "100%|██████████| 40/40 [00:01<00:00, 38.75it/s, loss=2.35e+3]\n"
          ]
        },
        {
          "output_type": "stream",
          "name": "stdout",
          "text": [
            "Epoch [20/60], Average Loss: 273.04\n"
          ]
        },
        {
          "output_type": "stream",
          "name": "stderr",
          "text": [
            "100%|██████████| 40/40 [00:01<00:00, 38.34it/s, loss=2.62e+3]\n"
          ]
        },
        {
          "output_type": "stream",
          "name": "stdout",
          "text": [
            "Epoch [21/60], Average Loss: 271.62\n"
          ]
        },
        {
          "output_type": "stream",
          "name": "stderr",
          "text": [
            "100%|██████████| 40/40 [00:01<00:00, 39.06it/s, loss=2.14e+3]\n"
          ]
        },
        {
          "output_type": "stream",
          "name": "stdout",
          "text": [
            "Epoch [22/60], Average Loss: 270.28\n"
          ]
        },
        {
          "output_type": "stream",
          "name": "stderr",
          "text": [
            "100%|██████████| 40/40 [00:01<00:00, 39.25it/s, loss=1.96e+3]\n"
          ]
        },
        {
          "output_type": "stream",
          "name": "stdout",
          "text": [
            "Epoch [23/60], Average Loss: 269.06\n"
          ]
        },
        {
          "output_type": "stream",
          "name": "stderr",
          "text": [
            "100%|██████████| 40/40 [00:00<00:00, 40.07it/s, loss=2.23e+3]\n"
          ]
        },
        {
          "output_type": "stream",
          "name": "stdout",
          "text": [
            "Epoch [24/60], Average Loss: 268.16\n"
          ]
        },
        {
          "output_type": "stream",
          "name": "stderr",
          "text": [
            "100%|██████████| 40/40 [00:01<00:00, 39.35it/s, loss=2.1e+3]\n"
          ]
        },
        {
          "output_type": "stream",
          "name": "stdout",
          "text": [
            "Epoch [25/60], Average Loss: 267.08\n"
          ]
        },
        {
          "output_type": "stream",
          "name": "stderr",
          "text": [
            "100%|██████████| 40/40 [00:01<00:00, 38.48it/s, loss=2.15e+3]\n"
          ]
        },
        {
          "output_type": "stream",
          "name": "stdout",
          "text": [
            "Epoch [26/60], Average Loss: 266.35\n"
          ]
        },
        {
          "output_type": "stream",
          "name": "stderr",
          "text": [
            "100%|██████████| 40/40 [00:01<00:00, 39.73it/s, loss=2.06e+3]\n"
          ]
        },
        {
          "output_type": "stream",
          "name": "stdout",
          "text": [
            "Epoch [27/60], Average Loss: 265.63\n"
          ]
        },
        {
          "output_type": "stream",
          "name": "stderr",
          "text": [
            "100%|██████████| 40/40 [00:01<00:00, 32.91it/s, loss=2.13e+3]\n"
          ]
        },
        {
          "output_type": "stream",
          "name": "stdout",
          "text": [
            "Epoch [28/60], Average Loss: 264.92\n"
          ]
        },
        {
          "output_type": "stream",
          "name": "stderr",
          "text": [
            "100%|██████████| 40/40 [00:01<00:00, 28.57it/s, loss=1.92e+3]\n"
          ]
        },
        {
          "output_type": "stream",
          "name": "stdout",
          "text": [
            "Epoch [29/60], Average Loss: 264.29\n"
          ]
        },
        {
          "output_type": "stream",
          "name": "stderr",
          "text": [
            "100%|██████████| 40/40 [00:01<00:00, 35.61it/s, loss=2.29e+3]\n"
          ]
        },
        {
          "output_type": "stream",
          "name": "stdout",
          "text": [
            "Epoch [30/60], Average Loss: 263.78\n"
          ]
        },
        {
          "output_type": "stream",
          "name": "stderr",
          "text": [
            "100%|██████████| 40/40 [00:01<00:00, 39.70it/s, loss=2.23e+3]\n"
          ]
        },
        {
          "output_type": "stream",
          "name": "stdout",
          "text": [
            "Epoch [31/60], Average Loss: 263.19\n"
          ]
        },
        {
          "output_type": "stream",
          "name": "stderr",
          "text": [
            "100%|██████████| 40/40 [00:01<00:00, 38.72it/s, loss=2.01e+3]\n"
          ]
        },
        {
          "output_type": "stream",
          "name": "stdout",
          "text": [
            "Epoch [32/60], Average Loss: 262.86\n"
          ]
        },
        {
          "output_type": "stream",
          "name": "stderr",
          "text": [
            "100%|██████████| 40/40 [00:00<00:00, 40.92it/s, loss=2.38e+3]\n"
          ]
        },
        {
          "output_type": "stream",
          "name": "stdout",
          "text": [
            "Epoch [33/60], Average Loss: 262.18\n"
          ]
        },
        {
          "output_type": "stream",
          "name": "stderr",
          "text": [
            "100%|██████████| 40/40 [00:01<00:00, 35.07it/s, loss=2.2e+3]\n"
          ]
        },
        {
          "output_type": "stream",
          "name": "stdout",
          "text": [
            "Epoch [34/60], Average Loss: 261.98\n"
          ]
        },
        {
          "output_type": "stream",
          "name": "stderr",
          "text": [
            "100%|██████████| 40/40 [00:01<00:00, 34.80it/s, loss=2.12e+3]\n"
          ]
        },
        {
          "output_type": "stream",
          "name": "stdout",
          "text": [
            "Epoch [35/60], Average Loss: 261.36\n"
          ]
        },
        {
          "output_type": "stream",
          "name": "stderr",
          "text": [
            "100%|██████████| 40/40 [00:01<00:00, 34.43it/s, loss=1.75e+3]\n"
          ]
        },
        {
          "output_type": "stream",
          "name": "stdout",
          "text": [
            "Epoch [36/60], Average Loss: 260.77\n"
          ]
        },
        {
          "output_type": "stream",
          "name": "stderr",
          "text": [
            "100%|██████████| 40/40 [00:00<00:00, 40.08it/s, loss=1.87e+3]\n"
          ]
        },
        {
          "output_type": "stream",
          "name": "stdout",
          "text": [
            "Epoch [37/60], Average Loss: 260.62\n"
          ]
        },
        {
          "output_type": "stream",
          "name": "stderr",
          "text": [
            "100%|██████████| 40/40 [00:01<00:00, 39.62it/s, loss=1.98e+3]\n"
          ]
        },
        {
          "output_type": "stream",
          "name": "stdout",
          "text": [
            "Epoch [38/60], Average Loss: 260.16\n"
          ]
        },
        {
          "output_type": "stream",
          "name": "stderr",
          "text": [
            "100%|██████████| 40/40 [00:01<00:00, 33.77it/s, loss=1.91e+3]\n"
          ]
        },
        {
          "output_type": "stream",
          "name": "stdout",
          "text": [
            "Epoch [39/60], Average Loss: 259.94\n"
          ]
        },
        {
          "output_type": "stream",
          "name": "stderr",
          "text": [
            "100%|██████████| 40/40 [00:01<00:00, 29.27it/s, loss=2.15e+3]\n"
          ]
        },
        {
          "output_type": "stream",
          "name": "stdout",
          "text": [
            "Epoch [40/60], Average Loss: 259.67\n"
          ]
        },
        {
          "output_type": "stream",
          "name": "stderr",
          "text": [
            "100%|██████████| 40/40 [00:01<00:00, 32.74it/s, loss=2.05e+3]\n"
          ]
        },
        {
          "output_type": "stream",
          "name": "stdout",
          "text": [
            "Epoch [41/60], Average Loss: 259.24\n"
          ]
        },
        {
          "output_type": "stream",
          "name": "stderr",
          "text": [
            "100%|██████████| 40/40 [00:01<00:00, 39.24it/s, loss=2.16e+3]\n"
          ]
        },
        {
          "output_type": "stream",
          "name": "stdout",
          "text": [
            "Epoch [42/60], Average Loss: 258.77\n"
          ]
        },
        {
          "output_type": "stream",
          "name": "stderr",
          "text": [
            "100%|██████████| 40/40 [00:01<00:00, 38.81it/s, loss=2.35e+3]\n"
          ]
        },
        {
          "output_type": "stream",
          "name": "stdout",
          "text": [
            "Epoch [43/60], Average Loss: 258.37\n"
          ]
        },
        {
          "output_type": "stream",
          "name": "stderr",
          "text": [
            "100%|██████████| 40/40 [00:01<00:00, 39.96it/s, loss=1.95e+3]\n"
          ]
        },
        {
          "output_type": "stream",
          "name": "stdout",
          "text": [
            "Epoch [44/60], Average Loss: 258.22\n"
          ]
        },
        {
          "output_type": "stream",
          "name": "stderr",
          "text": [
            "100%|██████████| 40/40 [00:00<00:00, 40.35it/s, loss=2.13e+3]\n"
          ]
        },
        {
          "output_type": "stream",
          "name": "stdout",
          "text": [
            "Epoch [45/60], Average Loss: 258.07\n"
          ]
        },
        {
          "output_type": "stream",
          "name": "stderr",
          "text": [
            "100%|██████████| 40/40 [00:00<00:00, 40.55it/s, loss=1.69e+3]\n"
          ]
        },
        {
          "output_type": "stream",
          "name": "stdout",
          "text": [
            "Epoch [46/60], Average Loss: 257.63\n"
          ]
        },
        {
          "output_type": "stream",
          "name": "stderr",
          "text": [
            "100%|██████████| 40/40 [00:00<00:00, 41.13it/s, loss=1.93e+3]\n"
          ]
        },
        {
          "output_type": "stream",
          "name": "stdout",
          "text": [
            "Epoch [47/60], Average Loss: 257.45\n"
          ]
        },
        {
          "output_type": "stream",
          "name": "stderr",
          "text": [
            "100%|██████████| 40/40 [00:00<00:00, 40.95it/s, loss=2.28e+3]\n"
          ]
        },
        {
          "output_type": "stream",
          "name": "stdout",
          "text": [
            "Epoch [48/60], Average Loss: 257.06\n"
          ]
        },
        {
          "output_type": "stream",
          "name": "stderr",
          "text": [
            "100%|██████████| 40/40 [00:01<00:00, 39.21it/s, loss=1.98e+3]\n"
          ]
        },
        {
          "output_type": "stream",
          "name": "stdout",
          "text": [
            "Epoch [49/60], Average Loss: 256.70\n"
          ]
        },
        {
          "output_type": "stream",
          "name": "stderr",
          "text": [
            "100%|██████████| 40/40 [00:00<00:00, 40.69it/s, loss=2.22e+3]\n"
          ]
        },
        {
          "output_type": "stream",
          "name": "stdout",
          "text": [
            "Epoch [50/60], Average Loss: 256.68\n"
          ]
        },
        {
          "output_type": "stream",
          "name": "stderr",
          "text": [
            "100%|██████████| 40/40 [00:01<00:00, 32.08it/s, loss=2.03e+3]\n"
          ]
        },
        {
          "output_type": "stream",
          "name": "stdout",
          "text": [
            "Epoch [51/60], Average Loss: 256.27\n"
          ]
        },
        {
          "output_type": "stream",
          "name": "stderr",
          "text": [
            "100%|██████████| 40/40 [00:01<00:00, 27.73it/s, loss=2.04e+3]\n"
          ]
        },
        {
          "output_type": "stream",
          "name": "stdout",
          "text": [
            "Epoch [52/60], Average Loss: 255.91\n"
          ]
        },
        {
          "output_type": "stream",
          "name": "stderr",
          "text": [
            "100%|██████████| 40/40 [00:00<00:00, 40.14it/s, loss=1.96e+3]\n"
          ]
        },
        {
          "output_type": "stream",
          "name": "stdout",
          "text": [
            "Epoch [53/60], Average Loss: 255.79\n"
          ]
        },
        {
          "output_type": "stream",
          "name": "stderr",
          "text": [
            "100%|██████████| 40/40 [00:00<00:00, 40.16it/s, loss=2.28e+3]\n"
          ]
        },
        {
          "output_type": "stream",
          "name": "stdout",
          "text": [
            "Epoch [54/60], Average Loss: 255.45\n"
          ]
        },
        {
          "output_type": "stream",
          "name": "stderr",
          "text": [
            "100%|██████████| 40/40 [00:00<00:00, 42.60it/s, loss=1.71e+3]\n"
          ]
        },
        {
          "output_type": "stream",
          "name": "stdout",
          "text": [
            "Epoch [55/60], Average Loss: 255.16\n"
          ]
        },
        {
          "output_type": "stream",
          "name": "stderr",
          "text": [
            "100%|██████████| 40/40 [00:00<00:00, 42.16it/s, loss=2.05e+3]\n"
          ]
        },
        {
          "output_type": "stream",
          "name": "stdout",
          "text": [
            "Epoch [56/60], Average Loss: 255.01\n"
          ]
        },
        {
          "output_type": "stream",
          "name": "stderr",
          "text": [
            "100%|██████████| 40/40 [00:00<00:00, 41.31it/s, loss=2.44e+3]\n"
          ]
        },
        {
          "output_type": "stream",
          "name": "stdout",
          "text": [
            "Epoch [57/60], Average Loss: 254.71\n"
          ]
        },
        {
          "output_type": "stream",
          "name": "stderr",
          "text": [
            "100%|██████████| 40/40 [00:00<00:00, 41.19it/s, loss=2.08e+3]\n"
          ]
        },
        {
          "output_type": "stream",
          "name": "stdout",
          "text": [
            "Epoch [58/60], Average Loss: 254.48\n"
          ]
        },
        {
          "output_type": "stream",
          "name": "stderr",
          "text": [
            "100%|██████████| 40/40 [00:01<00:00, 39.70it/s, loss=1.87e+3]\n"
          ]
        },
        {
          "output_type": "stream",
          "name": "stdout",
          "text": [
            "Epoch [59/60], Average Loss: 254.23\n"
          ]
        },
        {
          "output_type": "stream",
          "name": "stderr",
          "text": [
            "100%|██████████| 40/40 [00:00<00:00, 41.14it/s, loss=2.1e+3]"
          ]
        },
        {
          "output_type": "stream",
          "name": "stdout",
          "text": [
            "Epoch [60/60], Average Loss: 253.93\n"
          ]
        },
        {
          "output_type": "stream",
          "name": "stderr",
          "text": [
            "\n"
          ]
        }
      ]
    },
    {
      "cell_type": "markdown",
      "source": [
        "## Inference"
      ],
      "metadata": {
        "id": "QkN8EDq-fFwh"
      }
    },
    {
      "cell_type": "code",
      "source": [
        "# Load the trained model\n",
        "model = VariationalAutoEncoder(input_dim=input_dim, hidden_dim=hidden_dim, z_dim=z_dim).to(device)\n",
        "model.load_state_dict(torch.load(\"vae_model.pth\"))  # Make sure to save your model at training time\n",
        "model.eval()\n",
        "\n",
        "# Load MNIST test data\n",
        "test_dataset = datasets.FashionMNIST(root=\".data/\", train=False, transform=transforms.ToTensor(), download=True)\n",
        "test_loader = DataLoader(test_dataset, batch_size=8, shuffle=False)\n",
        "\n",
        "# Get one batch\n",
        "test_batch = next(iter(test_loader))[0].to(device)\n",
        "test_batch_flat = test_batch.view(test_batch.size(0), -1)\n",
        "\n",
        "# Inference\n",
        "with torch.no_grad():\n",
        "    recon_batch, _, _ = model(test_batch_flat)\n",
        "\n",
        "# Reshape for visualization\n",
        "recon_batch = recon_batch.view(-1, 1, 28, 28)\n",
        "original = test_batch.view(-1, 1, 28, 28)\n",
        "\n",
        "# Concatenate and save\n",
        "comparison = torch.cat([original, recon_batch])\n",
        "save_image(comparison, \"inference_reconstruction.png\", nrow=8)"
      ],
      "metadata": {
        "colab": {
          "base_uri": "https://localhost:8080/"
        },
        "id": "Ur0YCcoVe8Zp",
        "outputId": "aa684ed5-ed89-4c29-82b7-024abe19f945"
      },
      "execution_count": 4,
      "outputs": [
        {
          "output_type": "stream",
          "name": "stderr",
          "text": [
            "100%|██████████| 26.4M/26.4M [00:01<00:00, 13.4MB/s]\n",
            "100%|██████████| 29.5k/29.5k [00:00<00:00, 201kB/s]\n",
            "100%|██████████| 4.42M/4.42M [00:01<00:00, 3.72MB/s]\n",
            "100%|██████████| 5.15k/5.15k [00:00<00:00, 22.4MB/s]\n"
          ]
        }
      ]
    },
    {
      "cell_type": "code",
      "source": [],
      "metadata": {
        "id": "8MH_79zBWL9A"
      },
      "execution_count": null,
      "outputs": []
    }
  ]
}